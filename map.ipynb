{
 "cells": [
  {
   "cell_type": "code",
   "execution_count": 1,
   "id": "72594b09-a6a8-449a-9ec6-93258a60e927",
   "metadata": {},
   "outputs": [],
   "source": [
    "import numpy as np\n",
    "import matplotlib.pyplot as plt\n",
    "import folium\n",
    "from ipywidgets import interact\n",
    "import pandas as pd\n",
    "from shapely import intersection\n",
    "from shapely.geometry import MultiPoint, Polygon, Point\n",
    "from shapely import voronoi_polygons\n",
    "\n",
    "def random_color():\n",
    "    color = np.random.randint(16, 256, size=3)\n",
    "    color = [str(hex(i))[2:] for i in color]\n",
    "    return '#' + ''.join(color).upper()\n",
    "\n",
    "def create_point(row):\n",
    "    return Point(row['LATITUDE'], row['LONGITUDE'])"
   ]
  },
  {
   "cell_type": "code",
   "execution_count": 2,
   "id": "44ecadfa-9b6a-44a0-bc65-05e0e2e6d67d",
   "metadata": {},
   "outputs": [],
   "source": [
    "data = pd.read_csv(\"bike_share_data/cleaned_data.csv\")\n",
    "data['point'] = data.apply(create_point, axis=1)"
   ]
  },
  {
   "cell_type": "markdown",
   "id": "7364c134-85c8-4331-891b-ab82dcda3245",
   "metadata": {},
   "source": [
    "### copy of class code only for debuging purposes"
   ]
  },
  {
   "cell_type": "code",
   "execution_count": 31,
   "id": "7e2c4b2a-ebd7-4fba-8db6-29e92683f961",
   "metadata": {},
   "outputs": [],
   "source": [
    "import pandas as pd\n",
    "from shapely import intersection\n",
    "from shapely.geometry import MultiPoint, Polygon, Point\n",
    "from shapely import voronoi_polygons\n",
    "\n",
    "class weightedVoroniDigram:\n",
    "    \"\"\"\n",
    "    Class that computes weighted voronoi digrams for our use case\n",
    "    \n",
    "    \"\"\"\n",
    "    def __init__(self, df):\n",
    "        \"\"\"\n",
    "        \"\"\"\n",
    "        self.data = df\n",
    "\n",
    "    def find_optimal_voronoi_digram(num_to_add, num_to_remove, df, boundary):\n",
    "        \"\"\"\n",
    "        Args:\n",
    "            num_to_add (int): the number of points to add to data\n",
    "            num_to_remove (int): number of points in dataset to remove\n",
    "            df (dataframe): dataframe with a column for \"weights\", \"station_name\", and the \"point\" (x,y).\n",
    "            boundary (shapley polygon): Bound the Vorinoi digram to this region.\n",
    "        \"\"\"\n",
    "        \n",
    "        removed_df = weightedVoroniDigram.__find_optimal_point_to_remove(num_to_remove, df, boundary)\n",
    "        added_removed_df = weightedVoroniDigram.__find_optimal_points_to_add(num_to_add, removed_df, boundary)\n",
    "\n",
    "        \n",
    "        \n",
    "            \n",
    "        return weightedVoroniDigram.__weighted_voronoi_polygons(added_removed_df, boundary)\n",
    "        \n",
    "\n",
    "    def __find_optimal_point_to_remove(num_to_remove, df, boundary):\n",
    "        \"\"\"\n",
    "        Args:\n",
    "            num_to_remove (int): number of points in dataset to remove\n",
    "            df (dataframe): dataframe with a column for \"weights\", \"station_name\", and the \"point\" (x,y).\n",
    "            boundary (shapley polygon): Bound the Vorinoi digram to this region.\n",
    "\n",
    "        return, dataframe of with the num_to_remove points removed that were the worst locations\n",
    "        \"\"\"\n",
    "        return df\n",
    "\n",
    "    def __find_optimal_points_to_add(num_to_add, df, boundary):\n",
    "        \"\"\"\n",
    "        Probably use regression to compute the anticipated weights for the new points to be added.\n",
    "\n",
    "        \n",
    "        Args:\n",
    "            num_to_add (int): the number of points to add to data\n",
    "            df (dataframe): dataframe with a column for \"weights\", \"station_name\", and the \"point\" (x,y).\n",
    "            boundary (shapley polygon): Bound the Vorinoi digram to this region.\n",
    "\n",
    "        return, dataframe of with the num_to_add points added that were the best locations\n",
    "        \"\"\"\n",
    "        return df\n",
    "        \n",
    "    def __weighted_voronoi_polygons(df, boundary):\n",
    "        \"\"\"\n",
    "        Given a dataframe with weights compute the shapley poloygons for the weighted voronoi digram on the pts.\n",
    "        \n",
    "        Args:\n",
    "            df (dataframe): dataframe with a column for \"weights\", \"station_name\", and the \"point\" (x,y)\n",
    "            boundary (shapley polygon): Bound the Vorinoi digram to this region.\n",
    "        Returns:\n",
    "            dataframe: with the columns \"poly\", column of Shapley Poloygons that is the voronoi digram for the point, \n",
    "                                                    \"weights\", \"station_name\", and the \"point\" (x,y)\n",
    "        \"\"\"\n",
    "        points2 =  MultiPoint(df['point'].to_list())\n",
    "       \n",
    "        voronoi_diagram = voronoi_polygons(points2)\n",
    "\n",
    "        vor_polygons = []\n",
    "        for geom in voronoi_diagram.geoms:\n",
    "            xx, yy = geom.exterior.coords.xy\n",
    "            coord = list(zip(xx, yy))\n",
    "            inter = intersection(geom, boundary)\n",
    "            xx, yy = inter.exterior.coords.xy\n",
    "            coord_clipped = list(zip(xx, yy))\n",
    "            \n",
    "            vor_polygons.append(coord_clipped)\n",
    "\n",
    "        df['poly'] = vor_polygons\n",
    "        return df\n",
    "\n"
   ]
  },
  {
   "cell_type": "markdown",
   "id": "30bdc07e-8968-4261-9984-cd5b91d4f645",
   "metadata": {},
   "source": [
    "### Voronoi digram plotter"
   ]
  },
  {
   "cell_type": "code",
   "execution_count": 32,
   "id": "3d040430-281f-40c5-b812-47da62696f5e",
   "metadata": {},
   "outputs": [],
   "source": [
    "# from voronoi import weightedVoroniDigram"
   ]
  },
  {
   "cell_type": "code",
   "execution_count": 37,
   "id": "b489316d-0698-463f-82c2-b0104d63789b",
   "metadata": {},
   "outputs": [
    {
     "data": {
      "application/vnd.jupyter.widget-view+json": {
       "model_id": "d6fec73472c746aba7b64e0d458be97c",
       "version_major": 2,
       "version_minor": 0
      },
      "text/plain": [
       "interactive(children=(IntSlider(value=5, description='Add', max=10), IntSlider(value=5, description='Remove', …"
      ]
     },
     "metadata": {},
     "output_type": "display_data"
    }
   ],
   "source": [
    "def generate_points(n):\n",
    "    return data[['LATITUDE','LONGITUDE']].to_numpy()\n",
    "    \n",
    "def plot_voronoi(df):\n",
    "    # Create Folium map\n",
    "    points = df[['LATITUDE','LONGITUDE']].to_numpy()\n",
    "    map_center = points.mean(axis=0)\n",
    "    m = folium.Map(location=map_center, zoom_start=10)\n",
    "\n",
    "    for index, row in df.iterrows():\n",
    "        folium.Polygon(\n",
    "                    locations=row['poly'],\n",
    "                    color=\"blue\",\n",
    "                    weight=4,\n",
    "                    fill_color=random_color(),\n",
    "                    fill_opacity=0.5,\n",
    "                    fill=True,\n",
    "                    popup=f\"{row['station_name']}\",\n",
    "                    ).add_to(m)\n",
    "        \n",
    "        folium.CircleMarker(location=[row['LATITUDE'],row['LONGITUDE']],\n",
    "                        radius=2,\n",
    "                        weight=2).add_to(m)\n",
    "    \n",
    "    # Display map\n",
    "    display(m)\n",
    "\n",
    "@interact(Add=(0, 10), Remove=(0,10))\n",
    "def adjust_points(Add, Remove):\n",
    "    boundary = Polygon([(38.7, -76.8), (38.7,-77.4), (39.2,-77.4), (39.2,-76.8)])\n",
    "    points = weightedVoroniDigram.find_optimal_voronoi_digram(Add, Remove, data, boundary)\n",
    "    # points = generate_points(Add)\n",
    "    plot_voronoi(points)\n"
   ]
  }
 ],
 "metadata": {
  "kernelspec": {
   "display_name": "Python 3 (ipykernel)",
   "language": "python",
   "name": "python3"
  },
  "language_info": {
   "codemirror_mode": {
    "name": "ipython",
    "version": 3
   },
   "file_extension": ".py",
   "mimetype": "text/x-python",
   "name": "python",
   "nbconvert_exporter": "python",
   "pygments_lexer": "ipython3",
   "version": "3.11.5"
  }
 },
 "nbformat": 4,
 "nbformat_minor": 5
}
