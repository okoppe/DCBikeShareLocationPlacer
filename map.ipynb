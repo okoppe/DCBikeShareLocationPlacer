{
 "cells": [
  {
   "cell_type": "code",
   "execution_count": 1,
   "id": "6e06604d-0607-41c3-aff8-1281d7f122b1",
   "metadata": {
    "scrolled": true
   },
   "outputs": [
    {
     "name": "stdout",
     "output_type": "stream",
     "text": [
      "Defaulting to user installation because normal site-packages is not writeable\n",
      "Requirement already satisfied: pointpats in /uufs/chpc.utah.edu/common/home/u1353438/.local/lib/python3.11/site-packages (2.4.0)\n",
      "Requirement already satisfied: pandas in /uufs/chpc.utah.edu/sys/installdir/miniconda3/pyspark-3.5/lib/python3.11/site-packages (2.1.4)\n",
      "Requirement already satisfied: numpy in /uufs/chpc.utah.edu/sys/installdir/miniconda3/pyspark-3.5/lib/python3.11/site-packages (1.26.3)\n",
      "Requirement already satisfied: shapely in /uufs/chpc.utah.edu/common/home/u1353438/.local/lib/python3.11/site-packages (2.0.3)\n",
      "Requirement already satisfied: folium in /uufs/chpc.utah.edu/common/home/u1353438/.local/lib/python3.11/site-packages (0.16.0)\n",
      "Requirement already satisfied: ipywidgets in /uufs/chpc.utah.edu/common/home/u1353438/.local/lib/python3.11/site-packages (8.1.2)\n",
      "Requirement already satisfied: scipy>=1.8 in /uufs/chpc.utah.edu/common/home/u1353438/.local/lib/python3.11/site-packages (from pointpats) (1.12.0)\n",
      "Requirement already satisfied: libpysal>=4 in /uufs/chpc.utah.edu/common/home/u1353438/.local/lib/python3.11/site-packages (from pointpats) (4.10)\n",
      "Requirement already satisfied: matplotlib in /uufs/chpc.utah.edu/common/home/u1353438/.local/lib/python3.11/site-packages (from pointpats) (3.8.3)\n",
      "Requirement already satisfied: python-dateutil>=2.8.2 in /uufs/chpc.utah.edu/sys/installdir/miniconda3/pyspark-3.5/lib/python3.11/site-packages (from pandas) (2.8.2)\n",
      "Requirement already satisfied: pytz>=2020.1 in /uufs/chpc.utah.edu/sys/installdir/miniconda3/pyspark-3.5/lib/python3.11/site-packages (from pandas) (2023.4)\n",
      "Requirement already satisfied: tzdata>=2022.1 in /uufs/chpc.utah.edu/sys/installdir/miniconda3/pyspark-3.5/lib/python3.11/site-packages (from pandas) (2023.4)\n",
      "Requirement already satisfied: branca>=0.6.0 in /uufs/chpc.utah.edu/common/home/u1353438/.local/lib/python3.11/site-packages (from folium) (0.7.1)\n",
      "Requirement already satisfied: jinja2>=2.9 in /uufs/chpc.utah.edu/sys/installdir/miniconda3/pyspark-3.5/lib/python3.11/site-packages (from folium) (3.1.3)\n",
      "Requirement already satisfied: requests in /uufs/chpc.utah.edu/sys/installdir/miniconda3/pyspark-3.5/lib/python3.11/site-packages (from folium) (2.31.0)\n",
      "Requirement already satisfied: xyzservices in /uufs/chpc.utah.edu/common/home/u1353438/.local/lib/python3.11/site-packages (from folium) (2023.10.1)\n",
      "Requirement already satisfied: comm>=0.1.3 in /uufs/chpc.utah.edu/sys/installdir/miniconda3/pyspark-3.5/lib/python3.11/site-packages (from ipywidgets) (0.2.1)\n",
      "Requirement already satisfied: ipython>=6.1.0 in /uufs/chpc.utah.edu/sys/installdir/miniconda3/pyspark-3.5/lib/python3.11/site-packages (from ipywidgets) (8.20.0)\n",
      "Requirement already satisfied: traitlets>=4.3.1 in /uufs/chpc.utah.edu/sys/installdir/miniconda3/pyspark-3.5/lib/python3.11/site-packages (from ipywidgets) (5.14.1)\n",
      "Requirement already satisfied: widgetsnbextension~=4.0.10 in /uufs/chpc.utah.edu/common/home/u1353438/.local/lib/python3.11/site-packages (from ipywidgets) (4.0.10)\n",
      "Requirement already satisfied: jupyterlab-widgets~=3.0.10 in /uufs/chpc.utah.edu/common/home/u1353438/.local/lib/python3.11/site-packages (from ipywidgets) (3.0.10)\n",
      "Requirement already satisfied: decorator in /uufs/chpc.utah.edu/sys/installdir/miniconda3/pyspark-3.5/lib/python3.11/site-packages (from ipython>=6.1.0->ipywidgets) (5.1.1)\n",
      "Requirement already satisfied: jedi>=0.16 in /uufs/chpc.utah.edu/sys/installdir/miniconda3/pyspark-3.5/lib/python3.11/site-packages (from ipython>=6.1.0->ipywidgets) (0.19.1)\n",
      "Requirement already satisfied: matplotlib-inline in /uufs/chpc.utah.edu/sys/installdir/miniconda3/pyspark-3.5/lib/python3.11/site-packages (from ipython>=6.1.0->ipywidgets) (0.1.6)\n",
      "Requirement already satisfied: prompt-toolkit<3.1.0,>=3.0.41 in /uufs/chpc.utah.edu/sys/installdir/miniconda3/pyspark-3.5/lib/python3.11/site-packages (from ipython>=6.1.0->ipywidgets) (3.0.42)\n",
      "Requirement already satisfied: pygments>=2.4.0 in /uufs/chpc.utah.edu/sys/installdir/miniconda3/pyspark-3.5/lib/python3.11/site-packages (from ipython>=6.1.0->ipywidgets) (2.17.2)\n",
      "Requirement already satisfied: stack-data in /uufs/chpc.utah.edu/sys/installdir/miniconda3/pyspark-3.5/lib/python3.11/site-packages (from ipython>=6.1.0->ipywidgets) (0.6.2)\n",
      "Requirement already satisfied: pexpect>4.3 in /uufs/chpc.utah.edu/sys/installdir/miniconda3/pyspark-3.5/lib/python3.11/site-packages (from ipython>=6.1.0->ipywidgets) (4.9.0)\n",
      "Requirement already satisfied: MarkupSafe>=2.0 in /uufs/chpc.utah.edu/sys/installdir/miniconda3/pyspark-3.5/lib/python3.11/site-packages (from jinja2>=2.9->folium) (2.1.4)\n",
      "Requirement already satisfied: beautifulsoup4>=4.10 in /uufs/chpc.utah.edu/sys/installdir/miniconda3/pyspark-3.5/lib/python3.11/site-packages (from libpysal>=4->pointpats) (4.12.3)\n",
      "Requirement already satisfied: geopandas>=0.10.0 in /uufs/chpc.utah.edu/common/home/u1353438/.local/lib/python3.11/site-packages (from libpysal>=4->pointpats) (0.14.4)\n",
      "Requirement already satisfied: packaging>=22 in /uufs/chpc.utah.edu/sys/installdir/miniconda3/pyspark-3.5/lib/python3.11/site-packages (from libpysal>=4->pointpats) (23.1)\n",
      "Requirement already satisfied: platformdirs>=2.0.2 in /uufs/chpc.utah.edu/sys/installdir/miniconda3/pyspark-3.5/lib/python3.11/site-packages (from libpysal>=4->pointpats) (3.10.0)\n",
      "Requirement already satisfied: scikit-learn>=1.1 in /uufs/chpc.utah.edu/common/home/u1353438/.local/lib/python3.11/site-packages (from libpysal>=4->pointpats) (1.4.2)\n",
      "Requirement already satisfied: six>=1.5 in /uufs/chpc.utah.edu/sys/installdir/miniconda3/pyspark-3.5/lib/python3.11/site-packages (from python-dateutil>=2.8.2->pandas) (1.16.0)\n",
      "Requirement already satisfied: charset-normalizer<4,>=2 in /uufs/chpc.utah.edu/sys/installdir/miniconda3/pyspark-3.5/lib/python3.11/site-packages (from requests->folium) (2.0.4)\n",
      "Requirement already satisfied: idna<4,>=2.5 in /uufs/chpc.utah.edu/sys/installdir/miniconda3/pyspark-3.5/lib/python3.11/site-packages (from requests->folium) (3.4)\n",
      "Requirement already satisfied: urllib3<3,>=1.21.1 in /uufs/chpc.utah.edu/sys/installdir/miniconda3/pyspark-3.5/lib/python3.11/site-packages (from requests->folium) (1.26.18)\n",
      "Requirement already satisfied: certifi>=2017.4.17 in /uufs/chpc.utah.edu/sys/installdir/miniconda3/pyspark-3.5/lib/python3.11/site-packages (from requests->folium) (2023.11.17)\n",
      "Requirement already satisfied: contourpy>=1.0.1 in /uufs/chpc.utah.edu/common/home/u1353438/.local/lib/python3.11/site-packages (from matplotlib->pointpats) (1.2.0)\n",
      "Requirement already satisfied: cycler>=0.10 in /uufs/chpc.utah.edu/common/home/u1353438/.local/lib/python3.11/site-packages (from matplotlib->pointpats) (0.12.1)\n",
      "Requirement already satisfied: fonttools>=4.22.0 in /uufs/chpc.utah.edu/common/home/u1353438/.local/lib/python3.11/site-packages (from matplotlib->pointpats) (4.50.0)\n",
      "Requirement already satisfied: kiwisolver>=1.3.1 in /uufs/chpc.utah.edu/common/home/u1353438/.local/lib/python3.11/site-packages (from matplotlib->pointpats) (1.4.5)\n",
      "Requirement already satisfied: pillow>=8 in /uufs/chpc.utah.edu/common/home/u1353438/.local/lib/python3.11/site-packages (from matplotlib->pointpats) (10.3.0)\n",
      "Requirement already satisfied: pyparsing>=2.3.1 in /uufs/chpc.utah.edu/common/home/u1353438/.local/lib/python3.11/site-packages (from matplotlib->pointpats) (3.1.2)\n",
      "Requirement already satisfied: soupsieve>1.2 in /uufs/chpc.utah.edu/sys/installdir/miniconda3/pyspark-3.5/lib/python3.11/site-packages (from beautifulsoup4>=4.10->libpysal>=4->pointpats) (2.5)\n",
      "Requirement already satisfied: fiona>=1.8.21 in /uufs/chpc.utah.edu/common/home/u1353438/.local/lib/python3.11/site-packages (from geopandas>=0.10.0->libpysal>=4->pointpats) (1.9.6)\n",
      "Requirement already satisfied: pyproj>=3.3.0 in /uufs/chpc.utah.edu/common/home/u1353438/.local/lib/python3.11/site-packages (from geopandas>=0.10.0->libpysal>=4->pointpats) (3.6.1)\n",
      "Requirement already satisfied: parso<0.9.0,>=0.8.3 in /uufs/chpc.utah.edu/sys/installdir/miniconda3/pyspark-3.5/lib/python3.11/site-packages (from jedi>=0.16->ipython>=6.1.0->ipywidgets) (0.8.3)\n",
      "Requirement already satisfied: ptyprocess>=0.5 in /uufs/chpc.utah.edu/sys/installdir/miniconda3/pyspark-3.5/lib/python3.11/site-packages (from pexpect>4.3->ipython>=6.1.0->ipywidgets) (0.7.0)\n",
      "Requirement already satisfied: wcwidth in /uufs/chpc.utah.edu/sys/installdir/miniconda3/pyspark-3.5/lib/python3.11/site-packages (from prompt-toolkit<3.1.0,>=3.0.41->ipython>=6.1.0->ipywidgets) (0.2.13)\n",
      "Requirement already satisfied: joblib>=1.2.0 in /uufs/chpc.utah.edu/common/home/u1353438/.local/lib/python3.11/site-packages (from scikit-learn>=1.1->libpysal>=4->pointpats) (1.4.0)\n",
      "Requirement already satisfied: threadpoolctl>=2.0.0 in /uufs/chpc.utah.edu/common/home/u1353438/.local/lib/python3.11/site-packages (from scikit-learn>=1.1->libpysal>=4->pointpats) (3.5.0)\n",
      "Requirement already satisfied: executing>=1.2.0 in /uufs/chpc.utah.edu/sys/installdir/miniconda3/pyspark-3.5/lib/python3.11/site-packages (from stack-data->ipython>=6.1.0->ipywidgets) (2.0.1)\n",
      "Requirement already satisfied: asttokens>=2.1.0 in /uufs/chpc.utah.edu/sys/installdir/miniconda3/pyspark-3.5/lib/python3.11/site-packages (from stack-data->ipython>=6.1.0->ipywidgets) (2.4.1)\n",
      "Requirement already satisfied: pure-eval in /uufs/chpc.utah.edu/sys/installdir/miniconda3/pyspark-3.5/lib/python3.11/site-packages (from stack-data->ipython>=6.1.0->ipywidgets) (0.2.2)\n",
      "Requirement already satisfied: attrs>=19.2.0 in /uufs/chpc.utah.edu/sys/installdir/miniconda3/pyspark-3.5/lib/python3.11/site-packages (from fiona>=1.8.21->geopandas>=0.10.0->libpysal>=4->pointpats) (23.2.0)\n",
      "Requirement already satisfied: click~=8.0 in /uufs/chpc.utah.edu/common/home/u1353438/.local/lib/python3.11/site-packages (from fiona>=1.8.21->geopandas>=0.10.0->libpysal>=4->pointpats) (8.1.7)\n",
      "Requirement already satisfied: click-plugins>=1.0 in /uufs/chpc.utah.edu/common/home/u1353438/.local/lib/python3.11/site-packages (from fiona>=1.8.21->geopandas>=0.10.0->libpysal>=4->pointpats) (1.1.1)\n",
      "Requirement already satisfied: cligj>=0.5 in /uufs/chpc.utah.edu/common/home/u1353438/.local/lib/python3.11/site-packages (from fiona>=1.8.21->geopandas>=0.10.0->libpysal>=4->pointpats) (0.7.2)\n"
     ]
    }
   ],
   "source": [
    "# If first time running this notebook restart after running this cell. Otherwise packages will not be avalible in the kernal.\n",
    "! pip install pointpats pandas numpy shapely folium ipywidgets"
   ]
  },
  {
   "cell_type": "code",
   "execution_count": 2,
   "id": "72594b09-a6a8-449a-9ec6-93258a60e927",
   "metadata": {},
   "outputs": [],
   "source": [
    "import numpy as np\n",
    "import folium\n",
    "from ipywidgets import interact, interact_manual, IntText\n",
    "import pandas as pd\n",
    "from shapely import intersection\n",
    "from shapely.geometry import MultiPoint, Polygon, Point\n",
    "from shapely import voronoi_polygons\n",
    "\n",
    "from voronoi import weightedVoroniDigram\n",
    "\n",
    "def random_color():\n",
    "    color = np.random.randint(16, 256, size=3)\n",
    "    color = [str(hex(i))[2:] for i in color]\n",
    "    return '#' + ''.join(color).upper()\n",
    "\n",
    "def create_point(row):\n",
    "    return Point(row['LATITUDE'], row['LONGITUDE'])"
   ]
  },
  {
   "cell_type": "code",
   "execution_count": 3,
   "id": "44ecadfa-9b6a-44a0-bc65-05e0e2e6d67d",
   "metadata": {},
   "outputs": [],
   "source": [
    "data = pd.read_csv(\"bike_share_data/cleaned_data.csv\")\n",
    "data['point'] = data.apply(create_point, axis=1)"
   ]
  },
  {
   "cell_type": "markdown",
   "id": "30bdc07e-8968-4261-9984-cd5b91d4f645",
   "metadata": {},
   "source": [
    "### Voronoi digram plotter"
   ]
  },
  {
   "cell_type": "code",
   "execution_count": 4,
   "id": "b489316d-0698-463f-82c2-b0104d63789b",
   "metadata": {},
   "outputs": [
    {
     "data": {
      "application/vnd.jupyter.widget-view+json": {
       "model_id": "c0ee284fa82242da8040276fcb9a1c71",
       "version_major": 2,
       "version_minor": 0
      },
      "text/plain": [
       "interactive(children=(IntText(value=4, description='Add stations:'), IntText(value=2, description='Remove:'), …"
      ]
     },
     "metadata": {},
     "output_type": "display_data"
    }
   ],
   "source": [
    "def plot_voronoi(df):\n",
    "    '''method to create GUI'''\n",
    "    points = df[['LATITUDE','LONGITUDE']].to_numpy()\n",
    "    print(f\"Total number of stations: {len(points)}\")\n",
    "    map_center = points.mean(axis=0)\n",
    "    m = folium.Map(location=map_center, zoom_start=10)\n",
    "\n",
    "    for index, row in df.iterrows():\n",
    "            folium.Polygon(\n",
    "                        locations=row['poly'],\n",
    "                        color=\"blue\",\n",
    "                        weight=4,\n",
    "                        fill_color=random_color(),\n",
    "                        fill_opacity=0.5,\n",
    "                        fill=True,\n",
    "                        popup=\"Voronoi region\",\n",
    "                        ).add_to(m)\n",
    "            \n",
    "            folium.CircleMarker(location=[row['LATITUDE'],row['LONGITUDE']],\n",
    "                            radius=2,\n",
    "                            weight=2).add_to(m)\n",
    "    \n",
    "    # Display map\n",
    "    display(m)\n",
    "my_interact_manual = interact_manual.options(manual_name=\"Submit\")\n",
    "a = IntText(description=\"Add stations:\", value=4, min=0, max=1000)\n",
    "r = IntText(description=\"Remove:\", value=2, min=0, max=700)\n",
    "\n",
    "@my_interact_manual(a=a, r=r)\n",
    "def adjust_points(a, r):\n",
    "    boundary = Polygon([(38.7, -76.8), (38.7,-77.4), (39.2,-77.4), (39.2,-76.8)])\n",
    "    points = weightedVoroniDigram.find_optimal_voronoi_digram(a, r, data.copy(), boundary)\n",
    "    weightedVoroniDigram.evaluate(data.copy(), points.copy(), boundary)\n",
    "    plot_voronoi(points)"
   ]
  },
  {
   "cell_type": "code",
   "execution_count": null,
   "id": "26894268-8fd8-4aba-9734-02987e78978f",
   "metadata": {},
   "outputs": [],
   "source": []
  }
 ],
 "metadata": {
  "kernelspec": {
   "display_name": "Python 3 (ipykernel)",
   "language": "python",
   "name": "python3"
  },
  "language_info": {
   "codemirror_mode": {
    "name": "ipython",
    "version": 3
   },
   "file_extension": ".py",
   "mimetype": "text/x-python",
   "name": "python",
   "nbconvert_exporter": "python",
   "pygments_lexer": "ipython3",
   "version": "3.11.5"
  }
 },
 "nbformat": 4,
 "nbformat_minor": 5
}
