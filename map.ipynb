{
 "cells": [
  {
   "cell_type": "code",
   "execution_count": 5,
   "id": "72594b09-a6a8-449a-9ec6-93258a60e927",
   "metadata": {},
   "outputs": [],
   "source": [
    "import numpy as np\n",
    "import matplotlib.pyplot as plt\n",
    "import folium\n",
    "from ipywidgets import interact\n",
    "import pandas as pd\n",
    "from shapely import intersection\n",
    "from shapely.geometry import MultiPoint, Polygon, Point\n",
    "from shapely import voronoi_polygons\n",
    "\n",
    "def random_color():\n",
    "    color = np.random.randint(16, 256, size=3)\n",
    "    color = [str(hex(i))[2:] for i in color]\n",
    "    return '#' + ''.join(color).upper()"
   ]
  },
  {
   "cell_type": "code",
   "execution_count": 2,
   "id": "3349749c-f077-4988-90fc-5f90e8903a87",
   "metadata": {},
   "outputs": [],
   "source": [
    "data = pd.read_csv(\"bike_share_data/cleaned_data.csv\")"
   ]
  },
  {
   "cell_type": "markdown",
   "id": "30bdc07e-8968-4261-9984-cd5b91d4f645",
   "metadata": {},
   "source": [
    "### Voronoi digram plotter"
   ]
  },
  {
   "cell_type": "code",
   "execution_count": 3,
   "id": "b489316d-0698-463f-82c2-b0104d63789b",
   "metadata": {},
   "outputs": [
    {
     "data": {
      "application/vnd.jupyter.widget-view+json": {
       "model_id": "d891659fa49a42c3bfe198639401b5c6",
       "version_major": 2,
       "version_minor": 0
      },
      "text/plain": [
       "interactive(children=(IntSlider(value=5, description='Add', max=10), IntSlider(value=5, description='Remove', …"
      ]
     },
     "metadata": {},
     "output_type": "display_data"
    }
   ],
   "source": [
    "def generate_points(n):\n",
    "    return data[['LATITUDE','LONGITUDE']].to_numpy()\n",
    "    \n",
    "def plot_voronoi(points):\n",
    "    points2 = MultiPoint(points)\n",
    "    envelope = Polygon([(38.7, -76.8), (38.7,-77.4), (39.2,-77.4), (39.2,-76.8)])\n",
    "    # Compute the Voronoi diagram\n",
    "    voronoi_diagram = voronoi_polygons(points2)\n",
    "    # vor_polygons_in_country = shapely.intersection(vor_polygons[0], envelope)\n",
    "    vor_polygons = []\n",
    "    for geom in voronoi_diagram.geoms:\n",
    "        xx, yy = geom.exterior.coords.xy\n",
    "        coord = list(zip(xx, yy))\n",
    "        # inter = intersection(Polygon(coord), envelope)\n",
    "        inter = intersection(geom, envelope)\n",
    "        xx, yy = inter.exterior.coords.xy\n",
    "        coord_clipped = list(zip(xx, yy))\n",
    "        \n",
    "        vor_polygons.append(coord_clipped)\n",
    "    \n",
    "    \n",
    "    # Create Folium map\n",
    "    map_center = points.mean(axis=0)\n",
    "    m = folium.Map(location=map_center, zoom_start=10)\n",
    "    \n",
    "    # Add Voronoi edges to map\n",
    "    for poly in vor_polygons:\n",
    "        folium.Polygon(\n",
    "            locations=poly,\n",
    "            color=\"blue\",\n",
    "            weight=4,\n",
    "            fill_color=random_color(),\n",
    "            fill_opacity=0.5,\n",
    "            fill=True,\n",
    "            popup=\"add station name\",\n",
    "            tooltip=\"Click me!\").add_to(m)\n",
    "    \n",
    "    for point in points:\n",
    "        folium.CircleMarker(location=point,\n",
    "                        radius=2,\n",
    "                        weight=2).add_to(m)\n",
    "    \n",
    "    # Display map\n",
    "    display(m)\n",
    "# @interact(locations_to_remove=(0,10))\n",
    "@interact(Add=(0, 10), Remove=(0,10))\n",
    "def adjust_points(Add, Remove):\n",
    "    points = generate_points(Add)\n",
    "    plot_voronoi(points)\n"
   ]
  },
  {
   "cell_type": "markdown",
   "id": "52becfdb-02f1-42a7-b35b-994c65e23209",
   "metadata": {},
   "source": [
    "### Slower plotting but has bike share location names in region"
   ]
  },
  {
   "cell_type": "code",
   "execution_count": 6,
   "id": "97349b8a-d247-45de-b077-5e61bbedcce9",
   "metadata": {},
   "outputs": [
    {
     "data": {
      "application/vnd.jupyter.widget-view+json": {
       "model_id": "17c4515fcfb8461fb9222b281a5e1d8f",
       "version_major": 2,
       "version_minor": 0
      },
      "text/plain": [
       "interactive(children=(IntSlider(value=5, description='Add', max=10), IntSlider(value=5, description='Remove', …"
      ]
     },
     "metadata": {},
     "output_type": "display_data"
    }
   ],
   "source": [
    "def generate_points(n):\n",
    "    return data[['LATITUDE','LONGITUDE']].to_numpy()\n",
    "    \n",
    "def plot_voronoi(points):\n",
    "    # Define your input points (vertices)\n",
    "    # points = data[['LATITUDE','LONGITUDE']].to_numpy()\n",
    "    points2 = MultiPoint(points)\n",
    "    envelope = Polygon([(38.7, -76.8), (38.7,-77.4), (39.2,-77.4), (39.2,-76.8)])\n",
    "    # Compute the Voronoi diagram\n",
    "    voronoi_diagram = voronoi_polygons(points2)\n",
    "    # vor_polygons_in_country = shapely.intersection(vor_polygons[0], envelope)\n",
    "    vor_polygons = []\n",
    "    for geom in voronoi_diagram.geoms:\n",
    "        xx, yy = geom.exterior.coords.xy\n",
    "        coord = list(zip(xx, yy))\n",
    "        # inter = intersection(Polygon(coord), envelope)\n",
    "        inter = intersection(geom, envelope)\n",
    "        xx, yy = inter.exterior.coords.xy\n",
    "        coord_clipped = list(zip(xx, yy))\n",
    "        \n",
    "        vor_polygons.append(coord_clipped)\n",
    "    \n",
    "    \n",
    "    \n",
    "    # Create Folium map\n",
    "    map_center = points.mean(axis=0)\n",
    "    m = folium.Map(location=map_center, zoom_start=10)\n",
    "    \n",
    "    # Add Voronoi edges to map\n",
    "    for poly in vor_polygons:\n",
    "        for index, row in data.iterrows():\n",
    "             if Polygon(poly).contains(Point(row['LATITUDE'],row['LONGITUDE'])):\n",
    "                 folium.Polygon(\n",
    "                    locations=poly,\n",
    "                    color=\"blue\",\n",
    "                    weight=4,\n",
    "                    fill_color=random_color(),\n",
    "                    fill_opacity=0.5,\n",
    "                    fill=True,\n",
    "                    popup=f\"{row['station_name']}\",\n",
    "                    ).add_to(m)\n",
    "    \n",
    "                 folium.CircleMarker(location=[row['LATITUDE'],row['LONGITUDE']],\n",
    "                        radius=2,\n",
    "                        weight=2).add_to(m)\n",
    "                 break\n",
    "                 \n",
    "    # Display map\n",
    "    display(m)\n",
    "\n",
    "# @interact(locations_to_remove=(0,10))\n",
    "@interact(Add=(0, 10), Remove=(0,10))\n",
    "def adjust_points(Add, Remove):\n",
    "    points = generate_points(Add)\n",
    "    plot_voronoi(points)"
   ]
  },
  {
   "cell_type": "code",
   "execution_count": null,
   "id": "6507c849-eadd-41a7-a3d9-60b997c89665",
   "metadata": {},
   "outputs": [],
   "source": []
  },
  {
   "cell_type": "code",
   "execution_count": null,
   "id": "bc06eea8-a81b-4fe8-a26f-e1def096f9ff",
   "metadata": {},
   "outputs": [],
   "source": []
  }
 ],
 "metadata": {
  "kernelspec": {
   "display_name": "Python 3 (ipykernel)",
   "language": "python",
   "name": "python3"
  },
  "language_info": {
   "codemirror_mode": {
    "name": "ipython",
    "version": 3
   },
   "file_extension": ".py",
   "mimetype": "text/x-python",
   "name": "python",
   "nbconvert_exporter": "python",
   "pygments_lexer": "ipython3",
   "version": "3.11.5"
  }
 },
 "nbformat": 4,
 "nbformat_minor": 5
}
