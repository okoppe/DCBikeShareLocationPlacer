{
 "cells": [
  {
   "cell_type": "code",
   "execution_count": 1,
   "id": "94eaa5de",
   "metadata": {},
   "outputs": [
    {
     "name": "stdout",
     "output_type": "stream",
     "text": [
      "Defaulting to user installation because normal site-packages is not writeable\n",
      "Requirement already satisfied: pandas in /uufs/chpc.utah.edu/sys/installdir/miniconda3/pyspark-3.5/lib/python3.11/site-packages (2.1.4)\n",
      "Requirement already satisfied: numpy<2,>=1.23.2 in /uufs/chpc.utah.edu/sys/installdir/miniconda3/pyspark-3.5/lib/python3.11/site-packages (from pandas) (1.26.3)\n",
      "Requirement already satisfied: python-dateutil>=2.8.2 in /uufs/chpc.utah.edu/sys/installdir/miniconda3/pyspark-3.5/lib/python3.11/site-packages (from pandas) (2.8.2)\n",
      "Requirement already satisfied: pytz>=2020.1 in /uufs/chpc.utah.edu/sys/installdir/miniconda3/pyspark-3.5/lib/python3.11/site-packages (from pandas) (2023.4)\n",
      "Requirement already satisfied: tzdata>=2022.1 in /uufs/chpc.utah.edu/sys/installdir/miniconda3/pyspark-3.5/lib/python3.11/site-packages (from pandas) (2023.4)\n",
      "Requirement already satisfied: six>=1.5 in /uufs/chpc.utah.edu/sys/installdir/miniconda3/pyspark-3.5/lib/python3.11/site-packages (from python-dateutil>=2.8.2->pandas) (1.16.0)\n"
     ]
    }
   ],
   "source": [
    "## If first time running this notebook restart after running this cell. Otherwise packages will not be avalible in the kernal.\n",
    "! pip install pandas"
   ]
  },
  {
   "cell_type": "code",
   "execution_count": 2,
   "id": "f210a945",
   "metadata": {},
   "outputs": [],
   "source": [
    "import pandas as pd\n",
    "from os import listdir\n",
    "from os.path import isfile, join\n",
    "mypath = \".\"\n",
    "csvFiles = [f for f in listdir(mypath) if (isfile(join(mypath, f)) and (\"tripdata.csv\" in f))]"
   ]
  },
  {
   "cell_type": "markdown",
   "id": "778d5635-b39c-459a-9850-f0e0aea0d4f5",
   "metadata": {},
   "source": [
    "### merge all the month data files together and export to csv"
   ]
  },
  {
   "cell_type": "code",
   "execution_count": 3,
   "id": "f64d5716",
   "metadata": {},
   "outputs": [
    {
     "name": "stdout",
     "output_type": "stream",
     "text": [
      "202304-capitalbikeshare-tripdata.csv\n",
      "202305-capitalbikeshare-tripdata.csv\n",
      "202306-capitalbikeshare-tripdata.csv\n",
      "202307-capitalbikeshare-tripdata.csv\n",
      "202308-capitalbikeshare-tripdata.csv\n",
      "202309-capitalbikeshare-tripdata.csv\n",
      "202310-capitalbikeshare-tripdata.csv\n",
      "202311-capitalbikeshare-tripdata.csv\n",
      "202312-capitalbikeshare-tripdata.csv\n",
      "202401-capitalbikeshare-tripdata.csv\n",
      "202402-capitalbikeshare-tripdata.csv\n"
     ]
    }
   ],
   "source": [
    "allData = pd.read_csv(csvFiles[0])\n",
    "for fName in csvFiles[1:]:\n",
    "    print(fName)\n",
    "    allData = pd.concat([pd.read_csv(fName), allData])\n"
   ]
  },
  {
   "cell_type": "code",
   "execution_count": 4,
   "id": "b68bc4fe",
   "metadata": {},
   "outputs": [],
   "source": [
    "allData.to_csv(\"mergedRideData.csv\")"
   ]
  }
 ],
 "metadata": {
  "kernelspec": {
   "display_name": "Python 3 (ipykernel)",
   "language": "python",
   "name": "python3"
  },
  "language_info": {
   "codemirror_mode": {
    "name": "ipython",
    "version": 3
   },
   "file_extension": ".py",
   "mimetype": "text/x-python",
   "name": "python",
   "nbconvert_exporter": "python",
   "pygments_lexer": "ipython3",
   "version": "3.11.5"
  }
 },
 "nbformat": 4,
 "nbformat_minor": 5
}
